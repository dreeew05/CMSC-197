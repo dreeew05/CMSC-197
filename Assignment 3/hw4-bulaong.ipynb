{
 "cells": [
  {
   "cell_type": "markdown",
   "metadata": {},
   "source": [
    "Github Link: https://github.com/dreeew05/CMSC-197/tree/main/Assignment%203"
   ]
  },
  {
   "cell_type": "code",
   "execution_count": 352,
   "metadata": {},
   "outputs": [],
   "source": [
    "import pandas as pd\n",
    "import numpy as np\n",
    "import matplotlib.pyplot as plt\n",
    "\n",
    "# Regex for removing unwanted characters\n",
    "import re\n",
    "\n",
    "# To read email\n",
    "from email import policy\n",
    "from email.parser import BytesParser\n",
    "\n",
    "# To count common words\n",
    "from collections import Counter"
   ]
  },
  {
   "cell_type": "markdown",
   "metadata": {},
   "source": [
    "Define Constants"
   ]
  },
  {
   "cell_type": "code",
   "execution_count": 353,
   "metadata": {},
   "outputs": [],
   "source": [
    "FOLDER_PATH = \"trec06p-cs280/\""
   ]
  },
  {
   "cell_type": "markdown",
   "metadata": {},
   "source": [
    "Import the stop words and convert into array"
   ]
  },
  {
   "cell_type": "code",
   "execution_count": 354,
   "metadata": {},
   "outputs": [
    {
     "data": {
      "text/plain": [
       "['a', 'able', 'about', 'above', 'abst']"
      ]
     },
     "execution_count": 354,
     "metadata": {},
     "output_type": "execute_result"
    }
   ],
   "source": [
    "stop_words = open('stop_words.txt').read().splitlines()\n",
    "\n",
    "# For visualization purposes\n",
    "stop_words[:5]"
   ]
  },
  {
   "cell_type": "markdown",
   "metadata": {},
   "source": [
    "Initial DataFrame"
   ]
  },
  {
   "cell_type": "code",
   "execution_count": 355,
   "metadata": {},
   "outputs": [],
   "source": [
    "data = {\n",
    "    'file_path': [],\n",
    "    'category': []\n",
    "}\n",
    "df = pd.DataFrame(data)"
   ]
  },
  {
   "cell_type": "markdown",
   "metadata": {},
   "source": [
    "$\\textbf{Preprocessing}$"
   ]
  },
  {
   "cell_type": "code",
   "execution_count": 356,
   "metadata": {},
   "outputs": [
    {
     "data": {
      "text/html": [
       "<div>\n",
       "<style scoped>\n",
       "    .dataframe tbody tr th:only-of-type {\n",
       "        vertical-align: middle;\n",
       "    }\n",
       "\n",
       "    .dataframe tbody tr th {\n",
       "        vertical-align: top;\n",
       "    }\n",
       "\n",
       "    .dataframe thead th {\n",
       "        text-align: right;\n",
       "    }\n",
       "</style>\n",
       "<table border=\"1\" class=\"dataframe\">\n",
       "  <thead>\n",
       "    <tr style=\"text-align: right;\">\n",
       "      <th></th>\n",
       "      <th>file_path</th>\n",
       "      <th>category</th>\n",
       "    </tr>\n",
       "  </thead>\n",
       "  <tbody>\n",
       "    <tr>\n",
       "      <th>0</th>\n",
       "      <td>data/000/000</td>\n",
       "      <td>ham</td>\n",
       "    </tr>\n",
       "    <tr>\n",
       "      <th>1</th>\n",
       "      <td>data/000/001</td>\n",
       "      <td>spam</td>\n",
       "    </tr>\n",
       "    <tr>\n",
       "      <th>2</th>\n",
       "      <td>data/000/002</td>\n",
       "      <td>spam</td>\n",
       "    </tr>\n",
       "    <tr>\n",
       "      <th>3</th>\n",
       "      <td>data/000/003</td>\n",
       "      <td>ham</td>\n",
       "    </tr>\n",
       "    <tr>\n",
       "      <th>4</th>\n",
       "      <td>data/000/004</td>\n",
       "      <td>spam</td>\n",
       "    </tr>\n",
       "    <tr>\n",
       "      <th>...</th>\n",
       "      <td>...</td>\n",
       "      <td>...</td>\n",
       "    </tr>\n",
       "    <tr>\n",
       "      <th>37817</th>\n",
       "      <td>data/126/017</td>\n",
       "      <td>spam</td>\n",
       "    </tr>\n",
       "    <tr>\n",
       "      <th>37818</th>\n",
       "      <td>data/126/018</td>\n",
       "      <td>spam</td>\n",
       "    </tr>\n",
       "    <tr>\n",
       "      <th>37819</th>\n",
       "      <td>data/126/019</td>\n",
       "      <td>spam</td>\n",
       "    </tr>\n",
       "    <tr>\n",
       "      <th>37820</th>\n",
       "      <td>data/126/020</td>\n",
       "      <td>spam</td>\n",
       "    </tr>\n",
       "    <tr>\n",
       "      <th>37821</th>\n",
       "      <td>data/126/021</td>\n",
       "      <td>spam</td>\n",
       "    </tr>\n",
       "  </tbody>\n",
       "</table>\n",
       "<p>37822 rows × 2 columns</p>\n",
       "</div>"
      ],
      "text/plain": [
       "          file_path category\n",
       "0      data/000/000      ham\n",
       "1      data/000/001     spam\n",
       "2      data/000/002     spam\n",
       "3      data/000/003      ham\n",
       "4      data/000/004     spam\n",
       "...             ...      ...\n",
       "37817  data/126/017     spam\n",
       "37818  data/126/018     spam\n",
       "37819  data/126/019     spam\n",
       "37820  data/126/020     spam\n",
       "37821  data/126/021     spam\n",
       "\n",
       "[37822 rows x 2 columns]"
      ]
     },
     "execution_count": 356,
     "metadata": {},
     "output_type": "execute_result"
    }
   ],
   "source": [
    "labels_path = f\"{FOLDER_PATH}labels\"\n",
    "with open(labels_path) as f:\n",
    "    # Remove ../to mitigate file access errors\n",
    "    str_to_remove = \"../\"\n",
    "    for line in f:\n",
    "        category, path = line.split()\n",
    "        clean_path = path.replace(str_to_remove, '')\n",
    "        new_row = pd.DataFrame([[clean_path, category]], columns=[\"file_path\", \"category\"])\n",
    "        df = pd.concat([df, new_row], ignore_index=True)\n",
    "\n",
    "df"
   ]
  },
  {
   "cell_type": "markdown",
   "metadata": {},
   "source": [
    "Cleaning the email:\n",
    "\n",
    "- Remove alphanumeric characters\n",
    "- Remove punctuation marks\n",
    "- Remove stop words"
   ]
  },
  {
   "cell_type": "code",
   "execution_count": 357,
   "metadata": {},
   "outputs": [],
   "source": [
    "def clean_email(email_body):\n",
    "    # [^a-zA-Z\\s]+ => For non-alphabetic and non-whitespace (punctuations, new line, tab)\n",
    "    # \\s+ => For one or more whitespace characters\n",
    "    pattern = r\"[^a-zA-Z\\s]+|\\s+\"  # Combine both patterns\n",
    "    return re.sub(pattern, \" \", email_body).strip().lower()\n",
    "\n",
    "    # Split and remove stop words in a single step\n",
    "    # return [word for word in clean_message.split() if word not in stop_words]"
   ]
  },
  {
   "cell_type": "code",
   "execution_count": 358,
   "metadata": {},
   "outputs": [],
   "source": [
    "def remove_stop_words(clean_message):\n",
    "    return [word for word in clean_message.split() if word not in stop_words]"
   ]
  },
  {
   "cell_type": "markdown",
   "metadata": {},
   "source": [
    "Iterating to each mail:\n",
    "- Clean each mail\n",
    "- Tokenize the clean mail"
   ]
  },
  {
   "cell_type": "code",
   "execution_count": 359,
   "metadata": {},
   "outputs": [],
   "source": [
    "def tokenize_mail(df, to_remove_stop_words = False):\n",
    "    contents_arr = []\n",
    "\n",
    "    for path in df[\"file_path\"]:\n",
    "        current_file_path = f\"{FOLDER_PATH}{path}\"\n",
    "        with open(current_file_path, \"rb\") as f:\n",
    "            raw_email = f.read()\n",
    "\n",
    "        # Parse email content\n",
    "        msg = BytesParser(policy=policy.default).parsebytes(raw_email)\n",
    "\n",
    "        # Extract body (defaulting to empty string in case of issues)\n",
    "        body = \"\"\n",
    "\n",
    "        # Define a function to decode email parts safely\n",
    "        def decode_payload(part):\n",
    "            try:\n",
    "                charset = part.get_content_charset() or \"utf-8\"\n",
    "                return part.get_payload(decode=True).decode(charset)\n",
    "            except (LookupError, UnicodeDecodeError):\n",
    "                return part.get_payload(decode=True).decode(\"utf-8\", errors=\"replace\")\n",
    "\n",
    "        # Check for multipart or single-part message\n",
    "        if msg.is_multipart():\n",
    "            for part in msg.iter_parts():\n",
    "                if part.get_content_type() == \"text/plain\":\n",
    "                    body = decode_payload(part)\n",
    "                    break\n",
    "        else:\n",
    "            body = decode_payload(msg)\n",
    "\n",
    "        # Clean the email body and append the word list\n",
    "        # word_list = clean_email(body)\n",
    "        clean_email_body = clean_email(body)\n",
    "        if to_remove_stop_words:\n",
    "            word_list= remove_stop_words(clean_email_body)\n",
    "        else:\n",
    "            word_list = list(clean_email_body.split())\n",
    "        contents_arr.append(word_list)\n",
    "    return contents_arr"
   ]
  },
  {
   "cell_type": "markdown",
   "metadata": {},
   "source": [
    "Adding another column to dataframe"
   ]
  },
  {
   "cell_type": "code",
   "execution_count": 360,
   "metadata": {},
   "outputs": [],
   "source": [
    "df['word_list'] = tokenize_mail(df, True)"
   ]
  },
  {
   "cell_type": "markdown",
   "metadata": {},
   "source": [
    "Split the dataset into three groups:\n",
    "\n",
    "- Training set for ham\n",
    "- Training set for spam\n",
    "- Testing set"
   ]
  },
  {
   "cell_type": "code",
   "execution_count": 361,
   "metadata": {},
   "outputs": [],
   "source": [
    "def split_dataset(df):\n",
    "    train_df = df[df[\"file_path\"] < \"data/071\"]\n",
    "    train_ham_df = train_df[train_df[\"category\"] == \"ham\"]\n",
    "    train_spam_df = train_df[train_df[\"category\"] == \"spam\"]\n",
    "\n",
    "    test_df = df[df[\"file_path\"] >= \"data/071\"]\n",
    "\n",
    "    return train_df, train_ham_df, train_spam_df, test_df"
   ]
  },
  {
   "cell_type": "code",
   "execution_count": 362,
   "metadata": {},
   "outputs": [
    {
     "name": "stdout",
     "output_type": "stream",
     "text": [
      "Training Set\n"
     ]
    },
    {
     "data": {
      "text/html": [
       "<div>\n",
       "<style scoped>\n",
       "    .dataframe tbody tr th:only-of-type {\n",
       "        vertical-align: middle;\n",
       "    }\n",
       "\n",
       "    .dataframe tbody tr th {\n",
       "        vertical-align: top;\n",
       "    }\n",
       "\n",
       "    .dataframe thead th {\n",
       "        text-align: right;\n",
       "    }\n",
       "</style>\n",
       "<table border=\"1\" class=\"dataframe\">\n",
       "  <thead>\n",
       "    <tr style=\"text-align: right;\">\n",
       "      <th></th>\n",
       "      <th>file_path</th>\n",
       "      <th>category</th>\n",
       "      <th>word_list</th>\n",
       "    </tr>\n",
       "  </thead>\n",
       "  <tbody>\n",
       "    <tr>\n",
       "      <th>0</th>\n",
       "      <td>data/000/000</td>\n",
       "      <td>ham</td>\n",
       "      <td>[mailing, list, queried, weeks, ago, running, ...</td>\n",
       "    </tr>\n",
       "    <tr>\n",
       "      <th>1</th>\n",
       "      <td>data/000/001</td>\n",
       "      <td>spam</td>\n",
       "      <td>[luxury, watches, buy, rolex, rolex, cartier, ...</td>\n",
       "    </tr>\n",
       "    <tr>\n",
       "      <th>2</th>\n",
       "      <td>data/000/002</td>\n",
       "      <td>spam</td>\n",
       "      <td>[academic, qualifications, prestigious, acc, r...</td>\n",
       "    </tr>\n",
       "    <tr>\n",
       "      <th>3</th>\n",
       "      <td>data/000/003</td>\n",
       "      <td>ham</td>\n",
       "      <td>[greetings, verify, subscription, plan, fans, ...</td>\n",
       "    </tr>\n",
       "    <tr>\n",
       "      <th>4</th>\n",
       "      <td>data/000/004</td>\n",
       "      <td>spam</td>\n",
       "      <td>[chauncey, conferred, luscious, continued, ton...</td>\n",
       "    </tr>\n",
       "    <tr>\n",
       "      <th>...</th>\n",
       "      <td>...</td>\n",
       "      <td>...</td>\n",
       "      <td>...</td>\n",
       "    </tr>\n",
       "    <tr>\n",
       "      <th>21295</th>\n",
       "      <td>data/070/295</td>\n",
       "      <td>spam</td>\n",
       "      <td>[http, high, biz, ez, xin, walla]</td>\n",
       "    </tr>\n",
       "    <tr>\n",
       "      <th>21296</th>\n",
       "      <td>data/070/296</td>\n",
       "      <td>spam</td>\n",
       "      <td>[special, offer, adobe, video, collection, ado...</td>\n",
       "    </tr>\n",
       "    <tr>\n",
       "      <th>21297</th>\n",
       "      <td>data/070/297</td>\n",
       "      <td>spam</td>\n",
       "      <td>[doctype, html, public, dtd, html, transitiona...</td>\n",
       "    </tr>\n",
       "    <tr>\n",
       "      <th>21298</th>\n",
       "      <td>data/070/298</td>\n",
       "      <td>ham</td>\n",
       "      <td>[mounted, infrared, demodulator, hb, realised,...</td>\n",
       "    </tr>\n",
       "    <tr>\n",
       "      <th>21299</th>\n",
       "      <td>data/070/299</td>\n",
       "      <td>spam</td>\n",
       "      <td>[http, tmqmct, overpace, net, suffering, pain,...</td>\n",
       "    </tr>\n",
       "  </tbody>\n",
       "</table>\n",
       "<p>21300 rows × 3 columns</p>\n",
       "</div>"
      ],
      "text/plain": [
       "          file_path category  \\\n",
       "0      data/000/000      ham   \n",
       "1      data/000/001     spam   \n",
       "2      data/000/002     spam   \n",
       "3      data/000/003      ham   \n",
       "4      data/000/004     spam   \n",
       "...             ...      ...   \n",
       "21295  data/070/295     spam   \n",
       "21296  data/070/296     spam   \n",
       "21297  data/070/297     spam   \n",
       "21298  data/070/298      ham   \n",
       "21299  data/070/299     spam   \n",
       "\n",
       "                                               word_list  \n",
       "0      [mailing, list, queried, weeks, ago, running, ...  \n",
       "1      [luxury, watches, buy, rolex, rolex, cartier, ...  \n",
       "2      [academic, qualifications, prestigious, acc, r...  \n",
       "3      [greetings, verify, subscription, plan, fans, ...  \n",
       "4      [chauncey, conferred, luscious, continued, ton...  \n",
       "...                                                  ...  \n",
       "21295                  [http, high, biz, ez, xin, walla]  \n",
       "21296  [special, offer, adobe, video, collection, ado...  \n",
       "21297  [doctype, html, public, dtd, html, transitiona...  \n",
       "21298  [mounted, infrared, demodulator, hb, realised,...  \n",
       "21299  [http, tmqmct, overpace, net, suffering, pain,...  \n",
       "\n",
       "[21300 rows x 3 columns]"
      ]
     },
     "metadata": {},
     "output_type": "display_data"
    },
    {
     "name": "stdout",
     "output_type": "stream",
     "text": [
      "Ham Training Set\n"
     ]
    },
    {
     "data": {
      "text/html": [
       "<div>\n",
       "<style scoped>\n",
       "    .dataframe tbody tr th:only-of-type {\n",
       "        vertical-align: middle;\n",
       "    }\n",
       "\n",
       "    .dataframe tbody tr th {\n",
       "        vertical-align: top;\n",
       "    }\n",
       "\n",
       "    .dataframe thead th {\n",
       "        text-align: right;\n",
       "    }\n",
       "</style>\n",
       "<table border=\"1\" class=\"dataframe\">\n",
       "  <thead>\n",
       "    <tr style=\"text-align: right;\">\n",
       "      <th></th>\n",
       "      <th>file_path</th>\n",
       "      <th>category</th>\n",
       "      <th>word_list</th>\n",
       "    </tr>\n",
       "  </thead>\n",
       "  <tbody>\n",
       "    <tr>\n",
       "      <th>0</th>\n",
       "      <td>data/000/000</td>\n",
       "      <td>ham</td>\n",
       "      <td>[mailing, list, queried, weeks, ago, running, ...</td>\n",
       "    </tr>\n",
       "    <tr>\n",
       "      <th>3</th>\n",
       "      <td>data/000/003</td>\n",
       "      <td>ham</td>\n",
       "      <td>[greetings, verify, subscription, plan, fans, ...</td>\n",
       "    </tr>\n",
       "    <tr>\n",
       "      <th>5</th>\n",
       "      <td>data/000/005</td>\n",
       "      <td>ham</td>\n",
       "      <td>[quiet, quiet, well, straw, poll, plan, running]</td>\n",
       "    </tr>\n",
       "    <tr>\n",
       "      <th>6</th>\n",
       "      <td>data/000/006</td>\n",
       "      <td>ham</td>\n",
       "      <td>[working, departed, totally, bell, labs, recom...</td>\n",
       "    </tr>\n",
       "    <tr>\n",
       "      <th>10</th>\n",
       "      <td>data/000/010</td>\n",
       "      <td>ham</td>\n",
       "      <td>[greetings, mass, acknowledgement, signed, pla...</td>\n",
       "    </tr>\n",
       "    <tr>\n",
       "      <th>...</th>\n",
       "      <td>...</td>\n",
       "      <td>...</td>\n",
       "      <td>...</td>\n",
       "    </tr>\n",
       "    <tr>\n",
       "      <th>21270</th>\n",
       "      <td>data/070/270</td>\n",
       "      <td>ham</td>\n",
       "      <td>[equation, generate, prime, numbers, equation,...</td>\n",
       "    </tr>\n",
       "    <tr>\n",
       "      <th>21271</th>\n",
       "      <td>data/070/271</td>\n",
       "      <td>ham</td>\n",
       "      <td>[equation, generate, prime, numbers, equation,...</td>\n",
       "    </tr>\n",
       "    <tr>\n",
       "      <th>21288</th>\n",
       "      <td>data/070/288</td>\n",
       "      <td>ham</td>\n",
       "      <td>[dear, dmdx, users, guidance, generating, dmdx...</td>\n",
       "    </tr>\n",
       "    <tr>\n",
       "      <th>21293</th>\n",
       "      <td>data/070/293</td>\n",
       "      <td>ham</td>\n",
       "      <td>[built, handyboard, works, great, testmotor, p...</td>\n",
       "    </tr>\n",
       "    <tr>\n",
       "      <th>21298</th>\n",
       "      <td>data/070/298</td>\n",
       "      <td>ham</td>\n",
       "      <td>[mounted, infrared, demodulator, hb, realised,...</td>\n",
       "    </tr>\n",
       "  </tbody>\n",
       "</table>\n",
       "<p>7523 rows × 3 columns</p>\n",
       "</div>"
      ],
      "text/plain": [
       "          file_path category  \\\n",
       "0      data/000/000      ham   \n",
       "3      data/000/003      ham   \n",
       "5      data/000/005      ham   \n",
       "6      data/000/006      ham   \n",
       "10     data/000/010      ham   \n",
       "...             ...      ...   \n",
       "21270  data/070/270      ham   \n",
       "21271  data/070/271      ham   \n",
       "21288  data/070/288      ham   \n",
       "21293  data/070/293      ham   \n",
       "21298  data/070/298      ham   \n",
       "\n",
       "                                               word_list  \n",
       "0      [mailing, list, queried, weeks, ago, running, ...  \n",
       "3      [greetings, verify, subscription, plan, fans, ...  \n",
       "5       [quiet, quiet, well, straw, poll, plan, running]  \n",
       "6      [working, departed, totally, bell, labs, recom...  \n",
       "10     [greetings, mass, acknowledgement, signed, pla...  \n",
       "...                                                  ...  \n",
       "21270  [equation, generate, prime, numbers, equation,...  \n",
       "21271  [equation, generate, prime, numbers, equation,...  \n",
       "21288  [dear, dmdx, users, guidance, generating, dmdx...  \n",
       "21293  [built, handyboard, works, great, testmotor, p...  \n",
       "21298  [mounted, infrared, demodulator, hb, realised,...  \n",
       "\n",
       "[7523 rows x 3 columns]"
      ]
     },
     "metadata": {},
     "output_type": "display_data"
    },
    {
     "name": "stdout",
     "output_type": "stream",
     "text": [
      "Spam Training Set\n"
     ]
    },
    {
     "data": {
      "text/html": [
       "<div>\n",
       "<style scoped>\n",
       "    .dataframe tbody tr th:only-of-type {\n",
       "        vertical-align: middle;\n",
       "    }\n",
       "\n",
       "    .dataframe tbody tr th {\n",
       "        vertical-align: top;\n",
       "    }\n",
       "\n",
       "    .dataframe thead th {\n",
       "        text-align: right;\n",
       "    }\n",
       "</style>\n",
       "<table border=\"1\" class=\"dataframe\">\n",
       "  <thead>\n",
       "    <tr style=\"text-align: right;\">\n",
       "      <th></th>\n",
       "      <th>file_path</th>\n",
       "      <th>category</th>\n",
       "      <th>word_list</th>\n",
       "    </tr>\n",
       "  </thead>\n",
       "  <tbody>\n",
       "    <tr>\n",
       "      <th>1</th>\n",
       "      <td>data/000/001</td>\n",
       "      <td>spam</td>\n",
       "      <td>[luxury, watches, buy, rolex, rolex, cartier, ...</td>\n",
       "    </tr>\n",
       "    <tr>\n",
       "      <th>2</th>\n",
       "      <td>data/000/002</td>\n",
       "      <td>spam</td>\n",
       "      <td>[academic, qualifications, prestigious, acc, r...</td>\n",
       "    </tr>\n",
       "    <tr>\n",
       "      <th>4</th>\n",
       "      <td>data/000/004</td>\n",
       "      <td>spam</td>\n",
       "      <td>[chauncey, conferred, luscious, continued, ton...</td>\n",
       "    </tr>\n",
       "    <tr>\n",
       "      <th>7</th>\n",
       "      <td>data/000/007</td>\n",
       "      <td>spam</td>\n",
       "      <td>[nbc, today, body, diet, beaches, magazines, h...</td>\n",
       "    </tr>\n",
       "    <tr>\n",
       "      <th>8</th>\n",
       "      <td>data/000/008</td>\n",
       "      <td>spam</td>\n",
       "      <td>[oil, sector, going, crazy, weekly, gift, kkpt...</td>\n",
       "    </tr>\n",
       "    <tr>\n",
       "      <th>...</th>\n",
       "      <td>...</td>\n",
       "      <td>...</td>\n",
       "      <td>...</td>\n",
       "    </tr>\n",
       "    <tr>\n",
       "      <th>21294</th>\n",
       "      <td>data/070/294</td>\n",
       "      <td>spam</td>\n",
       "      <td>[txt, add]</td>\n",
       "    </tr>\n",
       "    <tr>\n",
       "      <th>21295</th>\n",
       "      <td>data/070/295</td>\n",
       "      <td>spam</td>\n",
       "      <td>[http, high, biz, ez, xin, walla]</td>\n",
       "    </tr>\n",
       "    <tr>\n",
       "      <th>21296</th>\n",
       "      <td>data/070/296</td>\n",
       "      <td>spam</td>\n",
       "      <td>[special, offer, adobe, video, collection, ado...</td>\n",
       "    </tr>\n",
       "    <tr>\n",
       "      <th>21297</th>\n",
       "      <td>data/070/297</td>\n",
       "      <td>spam</td>\n",
       "      <td>[doctype, html, public, dtd, html, transitiona...</td>\n",
       "    </tr>\n",
       "    <tr>\n",
       "      <th>21299</th>\n",
       "      <td>data/070/299</td>\n",
       "      <td>spam</td>\n",
       "      <td>[http, tmqmct, overpace, net, suffering, pain,...</td>\n",
       "    </tr>\n",
       "  </tbody>\n",
       "</table>\n",
       "<p>13777 rows × 3 columns</p>\n",
       "</div>"
      ],
      "text/plain": [
       "          file_path category  \\\n",
       "1      data/000/001     spam   \n",
       "2      data/000/002     spam   \n",
       "4      data/000/004     spam   \n",
       "7      data/000/007     spam   \n",
       "8      data/000/008     spam   \n",
       "...             ...      ...   \n",
       "21294  data/070/294     spam   \n",
       "21295  data/070/295     spam   \n",
       "21296  data/070/296     spam   \n",
       "21297  data/070/297     spam   \n",
       "21299  data/070/299     spam   \n",
       "\n",
       "                                               word_list  \n",
       "1      [luxury, watches, buy, rolex, rolex, cartier, ...  \n",
       "2      [academic, qualifications, prestigious, acc, r...  \n",
       "4      [chauncey, conferred, luscious, continued, ton...  \n",
       "7      [nbc, today, body, diet, beaches, magazines, h...  \n",
       "8      [oil, sector, going, crazy, weekly, gift, kkpt...  \n",
       "...                                                  ...  \n",
       "21294                                         [txt, add]  \n",
       "21295                  [http, high, biz, ez, xin, walla]  \n",
       "21296  [special, offer, adobe, video, collection, ado...  \n",
       "21297  [doctype, html, public, dtd, html, transitiona...  \n",
       "21299  [http, tmqmct, overpace, net, suffering, pain,...  \n",
       "\n",
       "[13777 rows x 3 columns]"
      ]
     },
     "metadata": {},
     "output_type": "display_data"
    },
    {
     "name": "stdout",
     "output_type": "stream",
     "text": [
      "Testing Set\n"
     ]
    },
    {
     "data": {
      "text/html": [
       "<div>\n",
       "<style scoped>\n",
       "    .dataframe tbody tr th:only-of-type {\n",
       "        vertical-align: middle;\n",
       "    }\n",
       "\n",
       "    .dataframe tbody tr th {\n",
       "        vertical-align: top;\n",
       "    }\n",
       "\n",
       "    .dataframe thead th {\n",
       "        text-align: right;\n",
       "    }\n",
       "</style>\n",
       "<table border=\"1\" class=\"dataframe\">\n",
       "  <thead>\n",
       "    <tr style=\"text-align: right;\">\n",
       "      <th></th>\n",
       "      <th>file_path</th>\n",
       "      <th>category</th>\n",
       "      <th>word_list</th>\n",
       "    </tr>\n",
       "  </thead>\n",
       "  <tbody>\n",
       "    <tr>\n",
       "      <th>21300</th>\n",
       "      <td>data/071/000</td>\n",
       "      <td>spam</td>\n",
       "      <td>[hesitantly, derive, perverse, satisfaction, c...</td>\n",
       "    </tr>\n",
       "    <tr>\n",
       "      <th>21301</th>\n",
       "      <td>data/071/001</td>\n",
       "      <td>ham</td>\n",
       "      <td>[things, perform, experiment, display, will, r...</td>\n",
       "    </tr>\n",
       "    <tr>\n",
       "      <th>21302</th>\n",
       "      <td>data/071/002</td>\n",
       "      <td>spam</td>\n",
       "      <td>[best, offer, month, viggra, ci, ialis, vaiium...</td>\n",
       "    </tr>\n",
       "    <tr>\n",
       "      <th>21303</th>\n",
       "      <td>data/071/003</td>\n",
       "      <td>spam</td>\n",
       "      <td>[de, ar, wne, cr, doesn, matter, ow, real, st,...</td>\n",
       "    </tr>\n",
       "    <tr>\n",
       "      <th>21304</th>\n",
       "      <td>data/071/004</td>\n",
       "      <td>spam</td>\n",
       "      <td>[special, offer, adobe, video, collection, ado...</td>\n",
       "    </tr>\n",
       "    <tr>\n",
       "      <th>...</th>\n",
       "      <td>...</td>\n",
       "      <td>...</td>\n",
       "      <td>...</td>\n",
       "    </tr>\n",
       "    <tr>\n",
       "      <th>37817</th>\n",
       "      <td>data/126/017</td>\n",
       "      <td>spam</td>\n",
       "      <td>[great, news, expec, ted, infinex, ventures, i...</td>\n",
       "    </tr>\n",
       "    <tr>\n",
       "      <th>37818</th>\n",
       "      <td>data/126/018</td>\n",
       "      <td>spam</td>\n",
       "      <td>[oil, sector, going, crazy, weekly, gift, kkpt...</td>\n",
       "    </tr>\n",
       "    <tr>\n",
       "      <th>37819</th>\n",
       "      <td>data/126/019</td>\n",
       "      <td>spam</td>\n",
       "      <td>[http, vdtobj, docscan, info, suffering, pain,...</td>\n",
       "    </tr>\n",
       "    <tr>\n",
       "      <th>37820</th>\n",
       "      <td>data/126/020</td>\n",
       "      <td>spam</td>\n",
       "      <td>[prosperous, future, increased, money, earning...</td>\n",
       "    </tr>\n",
       "    <tr>\n",
       "      <th>37821</th>\n",
       "      <td>data/126/021</td>\n",
       "      <td>spam</td>\n",
       "      <td>[moat, coverall, cytochemistry, planeload, salk]</td>\n",
       "    </tr>\n",
       "  </tbody>\n",
       "</table>\n",
       "<p>16522 rows × 3 columns</p>\n",
       "</div>"
      ],
      "text/plain": [
       "          file_path category  \\\n",
       "21300  data/071/000     spam   \n",
       "21301  data/071/001      ham   \n",
       "21302  data/071/002     spam   \n",
       "21303  data/071/003     spam   \n",
       "21304  data/071/004     spam   \n",
       "...             ...      ...   \n",
       "37817  data/126/017     spam   \n",
       "37818  data/126/018     spam   \n",
       "37819  data/126/019     spam   \n",
       "37820  data/126/020     spam   \n",
       "37821  data/126/021     spam   \n",
       "\n",
       "                                               word_list  \n",
       "21300  [hesitantly, derive, perverse, satisfaction, c...  \n",
       "21301  [things, perform, experiment, display, will, r...  \n",
       "21302  [best, offer, month, viggra, ci, ialis, vaiium...  \n",
       "21303  [de, ar, wne, cr, doesn, matter, ow, real, st,...  \n",
       "21304  [special, offer, adobe, video, collection, ado...  \n",
       "...                                                  ...  \n",
       "37817  [great, news, expec, ted, infinex, ventures, i...  \n",
       "37818  [oil, sector, going, crazy, weekly, gift, kkpt...  \n",
       "37819  [http, vdtobj, docscan, info, suffering, pain,...  \n",
       "37820  [prosperous, future, increased, money, earning...  \n",
       "37821   [moat, coverall, cytochemistry, planeload, salk]  \n",
       "\n",
       "[16522 rows x 3 columns]"
      ]
     },
     "metadata": {},
     "output_type": "display_data"
    }
   ],
   "source": [
    "# For Visualization Purposes\n",
    "train_df, train_ham_df, train_spam_df, test_df = split_dataset(df)\n",
    "print(\"Training Set\")\n",
    "display(train_df)\n",
    "print(\"Ham Training Set\")\n",
    "display(train_ham_df)\n",
    "print(\"Spam Training Set\")\n",
    "display(train_spam_df)\n",
    "print(\"Testing Set\")\n",
    "display(test_df)"
   ]
  },
  {
   "cell_type": "markdown",
   "metadata": {},
   "source": [
    "Get the 10000 most common words from the training set"
   ]
  },
  {
   "cell_type": "code",
   "execution_count": 363,
   "metadata": {},
   "outputs": [],
   "source": [
    "def get_top_words(train_df):\n",
    "    training_words = [word for sublist in train_df[\"word_list\"] for word in sublist]\n",
    "\n",
    "    word_count = Counter(training_words)\n",
    "    top_common_words_with_freq = word_count.most_common(COMMON_WORD_COUNT)\n",
    "    common_words = [word for word, _ in top_common_words_with_freq]\n",
    "\n",
    "    return top_common_words_with_freq, common_words"
   ]
  },
  {
   "cell_type": "code",
   "execution_count": 364,
   "metadata": {},
   "outputs": [
    {
     "data": {
      "text/plain": [
       "[('http', 27587),\n",
       " ('font', 27472),\n",
       " ('td', 27416),\n",
       " ('br', 24631),\n",
       " ('width', 13978),\n",
       " ('tr', 12527),\n",
       " ('will', 11484),\n",
       " ('size', 11289),\n",
       " ('color', 7526),\n",
       " ('html', 7319)]"
      ]
     },
     "execution_count": 364,
     "metadata": {},
     "output_type": "execute_result"
    }
   ],
   "source": [
    "top_common_words_with_freq, common_words = get_top_words(train_df)\n",
    "\n",
    "# For vizualization purposes\n",
    "top_common_words_with_freq[:10]"
   ]
  },
  {
   "cell_type": "markdown",
   "metadata": {},
   "source": [
    "$\\textbf{Creating the feature matrices}$"
   ]
  },
  {
   "cell_type": "code",
   "execution_count": 365,
   "metadata": {},
   "outputs": [],
   "source": [
    "def create_feature_matrix(emails, common_words):\n",
    "    emails_num = len(emails)\n",
    "    count = len(common_words)\n",
    "    # Initialize with zeros\n",
    "    feature_matrix = np.zeros((emails_num, count), dtype=int)\n",
    "\n",
    "    for i, email in enumerate(emails):\n",
    "        for word in email:\n",
    "            if word in common_words:\n",
    "                index = common_words.index(word)\n",
    "                feature_matrix[i, index] += 1\n",
    "    return feature_matrix"
   ]
  },
  {
   "cell_type": "code",
   "execution_count": 366,
   "metadata": {},
   "outputs": [
    {
     "name": "stdout",
     "output_type": "stream",
     "text": [
      "Ham Matrix: \n",
      " [[0 0 0 ... 0 0 0]\n",
      " [0 0 0 ... 0 0 0]\n",
      " [0 0 0 ... 0 0 0]\n",
      " ...\n",
      " [1 0 0 ... 0 0 0]\n",
      " [0 0 0 ... 0 0 0]\n",
      " [0 0 0 ... 0 0 0]]\n",
      "\n",
      "Spam Matrix: \n",
      " [[1 0 0 ... 0 0 0]\n",
      " [0 0 0 ... 0 0 0]\n",
      " [0 0 0 ... 0 0 0]\n",
      " ...\n",
      " [0 0 0 ... 0 0 0]\n",
      " [6 4 0 ... 0 0 0]\n",
      " [2 0 0 ... 0 0 0]]\n"
     ]
    }
   ],
   "source": [
    "ham_fm = create_feature_matrix(train_ham_df['word_list'], common_words)\n",
    "print(f'Ham Matrix: \\n {ham_fm}\\n')\n",
    "\n",
    "spam_fm = create_feature_matrix(train_spam_df['word_list'], common_words)\n",
    "print(f\"Spam Matrix: \\n {spam_fm}\")"
   ]
  },
  {
   "cell_type": "markdown",
   "metadata": {},
   "source": [
    "$\\textbf{Computing the priors}$\n",
    "\n",
    "$$P(c = \\text{ham}) = \\frac{N_{\\text{ham}}}{N_{\\text{doc}}}$$\n",
    "$$P(c = \\text{spam}) = \\frac{N_{\\text{spam}}}{N_{\\text{doc}}}$$\n"
   ]
  },
  {
   "cell_type": "code",
   "execution_count": 367,
   "metadata": {},
   "outputs": [],
   "source": [
    "def compute_priors(train_df, train_ham_df, train_spam_df):\n",
    "    n_ham = train_ham_df.shape[0]       # Number of ham emails in training set\n",
    "    n_spam = train_spam_df.shape[0]     # Number of spam emails in training set\n",
    "    n_doc = train_df.shape[0]           # Number of total emails in training set\n",
    "\n",
    "    p_ham = n_ham / n_doc\n",
    "    p_spam = n_spam / n_doc\n",
    "    return p_ham, p_spam"
   ]
  },
  {
   "cell_type": "code",
   "execution_count": 368,
   "metadata": {},
   "outputs": [
    {
     "name": "stdout",
     "output_type": "stream",
     "text": [
      "P_ham: 0.3531924882629108 | P_spam: 0.6468075117370892\n"
     ]
    }
   ],
   "source": [
    "p_ham, p_spam = compute_priors(train_df, train_ham_df, train_spam_df)\n",
    "print(f\"P_ham: {p_ham} | P_spam: {p_spam}\")"
   ]
  },
  {
   "cell_type": "markdown",
   "metadata": {},
   "source": [
    "$\\textbf{Computing the likelihood of each word}$"
   ]
  },
  {
   "cell_type": "markdown",
   "metadata": {},
   "source": [
    "$$P(w_i | \\text{spam}) = \\frac{\\text{count}(w_i, \\text{spam}) + \\lambda}{\\left( \\sum_{w \\in V} \\text{count}(w, \\text{spam}) \\right) + \\lambda |V|}$$\n",
    "\n",
    "$$P(w_i | \\text{ham}) = \\frac{\\text{count}(w_i, \\text{ham}) + \\lambda}{\\left( \\sum_{w \\in V} \\text{count}(w, \\text{ham}) \\right) + \\lambda |V|}$$"
   ]
  },
  {
   "cell_type": "code",
   "execution_count": 369,
   "metadata": {},
   "outputs": [],
   "source": [
    "def compute_likelihood(ham_fm, spam_fm, common_words, lmbda=1):\n",
    "    # Vectorized sum of word counts in ham and spam\n",
    "    ham_word_count = np.sum(ham_fm, axis=0)\n",
    "    spam_word_count = np.sum(spam_fm, axis=0)\n",
    "\n",
    "    # Calculate total word counts for ham and spam\n",
    "    ham_word_total = np.sum(ham_word_count)\n",
    "    spam_word_total = np.sum(spam_word_count)\n",
    "\n",
    "    # Initialize dictionaries for probabilities of each word in ham and spam classes\n",
    "    p_ham_count = {}\n",
    "    p_spam_count = {}\n",
    "\n",
    "    count = len(common_words)\n",
    "\n",
    "    # Calculate probabilities with Laplace smoothing\n",
    "    for i in range(count):\n",
    "        curr_ham_word = (ham_word_count[i] + lmbda) / (ham_word_total + lmbda * count)\n",
    "        curr_spam_word = (spam_word_count[i] + lmbda) / (\n",
    "            spam_word_total + lmbda * count\n",
    "        )\n",
    "        p_ham_count[common_words[i]] = curr_ham_word\n",
    "        p_spam_count[common_words[i]] = curr_spam_word\n",
    "\n",
    "    return p_ham_count, p_spam_count"
   ]
  },
  {
   "cell_type": "code",
   "execution_count": 370,
   "metadata": {},
   "outputs": [],
   "source": [
    "p_ham_count, p_spam_count = compute_likelihood(ham_fm, spam_fm, common_words)"
   ]
  },
  {
   "cell_type": "markdown",
   "metadata": {},
   "source": [
    "$\\textbf{Classifying the emails}$\n",
    "$$\\log \\left( P(c \\mid w_d) \\right) = \\sum_{i=1}^{d} \\log \\left( w_i \\mid c \\right) + \\log \\left( P(c) \\right)\n",
    "$$"
   ]
  },
  {
   "cell_type": "markdown",
   "metadata": {},
   "source": [
    "- Returns the prediction (spam or ham)"
   ]
  },
  {
   "cell_type": "code",
   "execution_count": 371,
   "metadata": {},
   "outputs": [],
   "source": [
    "def classify_emails(\n",
    "    tokenized_email, p_ham, p_spam, p_ham_count, p_spam_count, common_words\n",
    "):\n",
    "    # Initialize log values of ham and spam with their prior probabilities\n",
    "    log_p_ham = np.log(p_ham)\n",
    "    log_p_spam = np.log(p_spam)\n",
    "\n",
    "    # Iterate each tokenized words in the email's body and\n",
    "    # only process words that are in the top 1000 words\n",
    "    for w in tokenized_email:\n",
    "        if w in common_words:\n",
    "            log_p_ham += np.log(p_ham_count[w])\n",
    "            log_p_spam += np.log(p_spam_count[w])\n",
    "\n",
    "    return \"ham\" if log_p_ham > log_p_spam else \"spam\""
   ]
  },
  {
   "cell_type": "markdown",
   "metadata": {},
   "source": [
    "$\\textbf{Testing the Classifier}$"
   ]
  },
  {
   "cell_type": "code",
   "execution_count": 372,
   "metadata": {},
   "outputs": [],
   "source": [
    "def test_classifier(\n",
    "    test_df, p_ham, p_spam, p_ham_count, p_spam_count, common_words\n",
    "):\n",
    "    prediction = []\n",
    "    # Loop through the emails in test_df\n",
    "    for tokenized_email in test_df[\"word_list\"]:\n",
    "        category = classify_emails(\n",
    "            tokenized_email, p_ham, p_spam, p_ham_count, p_spam_count, common_words\n",
    "        )  \n",
    "        prediction.append(category)\n",
    "    return prediction"
   ]
  },
  {
   "cell_type": "code",
   "execution_count": 373,
   "metadata": {},
   "outputs": [
    {
     "data": {
      "text/html": [
       "<div>\n",
       "<style scoped>\n",
       "    .dataframe tbody tr th:only-of-type {\n",
       "        vertical-align: middle;\n",
       "    }\n",
       "\n",
       "    .dataframe tbody tr th {\n",
       "        vertical-align: top;\n",
       "    }\n",
       "\n",
       "    .dataframe thead th {\n",
       "        text-align: right;\n",
       "    }\n",
       "</style>\n",
       "<table border=\"1\" class=\"dataframe\">\n",
       "  <thead>\n",
       "    <tr style=\"text-align: right;\">\n",
       "      <th></th>\n",
       "      <th>file_path</th>\n",
       "      <th>category</th>\n",
       "      <th>word_list</th>\n",
       "      <th>prediction</th>\n",
       "    </tr>\n",
       "  </thead>\n",
       "  <tbody>\n",
       "    <tr>\n",
       "      <th>21300</th>\n",
       "      <td>data/071/000</td>\n",
       "      <td>spam</td>\n",
       "      <td>[hesitantly, derive, perverse, satisfaction, c...</td>\n",
       "      <td>spam</td>\n",
       "    </tr>\n",
       "    <tr>\n",
       "      <th>21301</th>\n",
       "      <td>data/071/001</td>\n",
       "      <td>ham</td>\n",
       "      <td>[things, perform, experiment, display, will, r...</td>\n",
       "      <td>ham</td>\n",
       "    </tr>\n",
       "    <tr>\n",
       "      <th>21302</th>\n",
       "      <td>data/071/002</td>\n",
       "      <td>spam</td>\n",
       "      <td>[best, offer, month, viggra, ci, ialis, vaiium...</td>\n",
       "      <td>spam</td>\n",
       "    </tr>\n",
       "    <tr>\n",
       "      <th>21303</th>\n",
       "      <td>data/071/003</td>\n",
       "      <td>spam</td>\n",
       "      <td>[de, ar, wne, cr, doesn, matter, ow, real, st,...</td>\n",
       "      <td>spam</td>\n",
       "    </tr>\n",
       "    <tr>\n",
       "      <th>21304</th>\n",
       "      <td>data/071/004</td>\n",
       "      <td>spam</td>\n",
       "      <td>[special, offer, adobe, video, collection, ado...</td>\n",
       "      <td>spam</td>\n",
       "    </tr>\n",
       "    <tr>\n",
       "      <th>...</th>\n",
       "      <td>...</td>\n",
       "      <td>...</td>\n",
       "      <td>...</td>\n",
       "      <td>...</td>\n",
       "    </tr>\n",
       "    <tr>\n",
       "      <th>37817</th>\n",
       "      <td>data/126/017</td>\n",
       "      <td>spam</td>\n",
       "      <td>[great, news, expec, ted, infinex, ventures, i...</td>\n",
       "      <td>spam</td>\n",
       "    </tr>\n",
       "    <tr>\n",
       "      <th>37818</th>\n",
       "      <td>data/126/018</td>\n",
       "      <td>spam</td>\n",
       "      <td>[oil, sector, going, crazy, weekly, gift, kkpt...</td>\n",
       "      <td>spam</td>\n",
       "    </tr>\n",
       "    <tr>\n",
       "      <th>37819</th>\n",
       "      <td>data/126/019</td>\n",
       "      <td>spam</td>\n",
       "      <td>[http, vdtobj, docscan, info, suffering, pain,...</td>\n",
       "      <td>spam</td>\n",
       "    </tr>\n",
       "    <tr>\n",
       "      <th>37820</th>\n",
       "      <td>data/126/020</td>\n",
       "      <td>spam</td>\n",
       "      <td>[prosperous, future, increased, money, earning...</td>\n",
       "      <td>spam</td>\n",
       "    </tr>\n",
       "    <tr>\n",
       "      <th>37821</th>\n",
       "      <td>data/126/021</td>\n",
       "      <td>spam</td>\n",
       "      <td>[moat, coverall, cytochemistry, planeload, salk]</td>\n",
       "      <td>spam</td>\n",
       "    </tr>\n",
       "  </tbody>\n",
       "</table>\n",
       "<p>16522 rows × 4 columns</p>\n",
       "</div>"
      ],
      "text/plain": [
       "          file_path category  \\\n",
       "21300  data/071/000     spam   \n",
       "21301  data/071/001      ham   \n",
       "21302  data/071/002     spam   \n",
       "21303  data/071/003     spam   \n",
       "21304  data/071/004     spam   \n",
       "...             ...      ...   \n",
       "37817  data/126/017     spam   \n",
       "37818  data/126/018     spam   \n",
       "37819  data/126/019     spam   \n",
       "37820  data/126/020     spam   \n",
       "37821  data/126/021     spam   \n",
       "\n",
       "                                               word_list prediction  \n",
       "21300  [hesitantly, derive, perverse, satisfaction, c...       spam  \n",
       "21301  [things, perform, experiment, display, will, r...        ham  \n",
       "21302  [best, offer, month, viggra, ci, ialis, vaiium...       spam  \n",
       "21303  [de, ar, wne, cr, doesn, matter, ow, real, st,...       spam  \n",
       "21304  [special, offer, adobe, video, collection, ado...       spam  \n",
       "...                                                  ...        ...  \n",
       "37817  [great, news, expec, ted, infinex, ventures, i...       spam  \n",
       "37818  [oil, sector, going, crazy, weekly, gift, kkpt...       spam  \n",
       "37819  [http, vdtobj, docscan, info, suffering, pain,...       spam  \n",
       "37820  [prosperous, future, increased, money, earning...       spam  \n",
       "37821   [moat, coverall, cytochemistry, planeload, salk]       spam  \n",
       "\n",
       "[16522 rows x 4 columns]"
      ]
     },
     "execution_count": 373,
     "metadata": {},
     "output_type": "execute_result"
    }
   ],
   "source": [
    "test_df = test_df.copy()\n",
    "\n",
    "test_df.loc[:, \"prediction\"] = test_classifier(\n",
    "    test_df, p_ham, p_spam, p_ham_count, p_spam_count, common_words\n",
    ")\n",
    "\n",
    "test_df"
   ]
  },
  {
   "cell_type": "markdown",
   "metadata": {},
   "source": [
    "$\\textbf{Performance Evaluation}$"
   ]
  },
  {
   "cell_type": "code",
   "execution_count": 374,
   "metadata": {},
   "outputs": [],
   "source": [
    "def evaluate_performance(test_df):\n",
    "    y_true = test_df[\"category\"]\n",
    "    y_pred = test_df[\"prediction\"]\n",
    "\n",
    "    tp = ((y_true == \"spam\") & (y_pred == \"spam\")).sum()\n",
    "    tn = ((y_true == \"ham\") & (y_pred == \"ham\")).sum()\n",
    "    fp = ((y_true == \"ham\") & (y_pred == \"spam\")).sum()\n",
    "    fn = ((y_true == \"spam\") & (y_pred == \"ham\")).sum()\n",
    "\n",
    "    accuracy = (tn + tp) / (tn + tp + fp + fn)\n",
    "    recall = tp / (tp + fn)\n",
    "    precision = tp / (tp + fp)\n",
    "\n",
    "    return accuracy, recall, precision"
   ]
  },
  {
   "cell_type": "code",
   "execution_count": 375,
   "metadata": {},
   "outputs": [
    {
     "name": "stdout",
     "output_type": "stream",
     "text": [
      "Accuracy: 0.9196223217528144\n",
      "Recall: 0.9163897620116749\n",
      "Precision: 0.9625507027638902\n"
     ]
    }
   ],
   "source": [
    "accuracy, recall, precision = evaluate_performance(test_df)\n",
    "print(f\"Accuracy: {accuracy}\\nRecall: {recall}\\nPrecision: {precision}\")"
   ]
  },
  {
   "cell_type": "markdown",
   "metadata": {},
   "source": [
    "$\\textbf{Results and Discussions}$"
   ]
  },
  {
   "cell_type": "markdown",
   "metadata": {},
   "source": [
    "1. What is the effect of removing stop words in terms of precision, recall, and accuracy? Show a plot or a table of these results."
   ]
  },
  {
   "cell_type": "markdown",
   "metadata": {},
   "source": [
    "- Call the functions again and run without stop words"
   ]
  },
  {
   "cell_type": "code",
   "execution_count": 376,
   "metadata": {},
   "outputs": [],
   "source": [
    "df_wo_stop = df.copy()\n",
    "df_wo_stop['word_list'] = tokenize_mail(df_wo_stop, False)\n",
    "train_df_wo_stop, train_ham_df_wo_stop, train_spam_df_wo_stop, test_df_wo_stop = (\n",
    "    split_dataset(df_wo_stop)\n",
    ")"
   ]
  },
  {
   "cell_type": "markdown",
   "metadata": {},
   "source": [
    "Top common words without removing stop words"
   ]
  },
  {
   "cell_type": "code",
   "execution_count": 377,
   "metadata": {},
   "outputs": [
    {
     "data": {
      "text/plain": [
       "[('the', 132456),\n",
       " ('a', 101655),\n",
       " ('to', 84414),\n",
       " ('and', 64342),\n",
       " ('i', 59997),\n",
       " ('of', 57634),\n",
       " ('in', 44268),\n",
       " ('is', 36561),\n",
       " ('b', 31967),\n",
       " ('you', 31784)]"
      ]
     },
     "execution_count": 377,
     "metadata": {},
     "output_type": "execute_result"
    }
   ],
   "source": [
    "top_common_words_with_freq_wo_stop, common_words_wo_stop = get_top_words(\n",
    "    train_df_wo_stop\n",
    ")\n",
    "\n",
    "# For vizualization purposes\n",
    "top_common_words_with_freq_wo_stop[:10]"
   ]
  },
  {
   "cell_type": "code",
   "execution_count": 378,
   "metadata": {},
   "outputs": [],
   "source": [
    "ham_fm_wo_stop = create_feature_matrix(train_ham_df_wo_stop[\"word_list\"], common_words_wo_stop)\n",
    "spam_fm_wo_stop = create_feature_matrix(train_spam_df_wo_stop[\"word_list\"], common_words_wo_stop)\n",
    "\n",
    "p_ham_wo_stop, p_spam_wo_stop = compute_priors(train_df_wo_stop, train_ham_df_wo_stop, train_spam_df_wo_stop)\n",
    "p_ham_count_wo_stop, p_spam_count_wo_stop = compute_likelihood(\n",
    "    ham_fm_wo_stop, spam_fm_wo_stop, common_words_wo_stop\n",
    ")"
   ]
  },
  {
   "cell_type": "code",
   "execution_count": 379,
   "metadata": {},
   "outputs": [
    {
     "name": "stderr",
     "output_type": "stream",
     "text": [
      "C:\\Users\\glena\\AppData\\Local\\Temp\\ipykernel_19032\\2239841836.py:1: SettingWithCopyWarning: \n",
      "A value is trying to be set on a copy of a slice from a DataFrame.\n",
      "Try using .loc[row_indexer,col_indexer] = value instead\n",
      "\n",
      "See the caveats in the documentation: https://pandas.pydata.org/pandas-docs/stable/user_guide/indexing.html#returning-a-view-versus-a-copy\n",
      "  test_df_wo_stop.loc[:, \"prediction\"] = test_classifier(\n"
     ]
    },
    {
     "data": {
      "text/html": [
       "<div>\n",
       "<style scoped>\n",
       "    .dataframe tbody tr th:only-of-type {\n",
       "        vertical-align: middle;\n",
       "    }\n",
       "\n",
       "    .dataframe tbody tr th {\n",
       "        vertical-align: top;\n",
       "    }\n",
       "\n",
       "    .dataframe thead th {\n",
       "        text-align: right;\n",
       "    }\n",
       "</style>\n",
       "<table border=\"1\" class=\"dataframe\">\n",
       "  <thead>\n",
       "    <tr style=\"text-align: right;\">\n",
       "      <th></th>\n",
       "      <th>file_path</th>\n",
       "      <th>category</th>\n",
       "      <th>word_list</th>\n",
       "      <th>prediction</th>\n",
       "    </tr>\n",
       "  </thead>\n",
       "  <tbody>\n",
       "    <tr>\n",
       "      <th>21300</th>\n",
       "      <td>data/071/000</td>\n",
       "      <td>spam</td>\n",
       "      <td>[where, we, can, hesitantly, derive, perverse,...</td>\n",
       "      <td>spam</td>\n",
       "    </tr>\n",
       "    <tr>\n",
       "      <th>21301</th>\n",
       "      <td>data/071/001</td>\n",
       "      <td>ham</td>\n",
       "      <td>[there, are, several, things, you, can, use, t...</td>\n",
       "      <td>ham</td>\n",
       "    </tr>\n",
       "    <tr>\n",
       "      <th>21302</th>\n",
       "      <td>data/071/002</td>\n",
       "      <td>spam</td>\n",
       "      <td>[best, offer, of, the, month, viggra, ci, iali...</td>\n",
       "      <td>spam</td>\n",
       "    </tr>\n",
       "    <tr>\n",
       "      <th>21303</th>\n",
       "      <td>data/071/003</td>\n",
       "      <td>spam</td>\n",
       "      <td>[de, i, ar, home, o, h, wne, n, r, your, cr, v...</td>\n",
       "      <td>spam</td>\n",
       "    </tr>\n",
       "    <tr>\n",
       "      <th>21304</th>\n",
       "      <td>data/071/004</td>\n",
       "      <td>spam</td>\n",
       "      <td>[special, offer, adobe, video, collection, ado...</td>\n",
       "      <td>spam</td>\n",
       "    </tr>\n",
       "    <tr>\n",
       "      <th>...</th>\n",
       "      <td>...</td>\n",
       "      <td>...</td>\n",
       "      <td>...</td>\n",
       "      <td>...</td>\n",
       "    </tr>\n",
       "    <tr>\n",
       "      <th>37817</th>\n",
       "      <td>data/126/017</td>\n",
       "      <td>spam</td>\n",
       "      <td>[great, news, expec, ted, infinex, ventures, i...</td>\n",
       "      <td>spam</td>\n",
       "    </tr>\n",
       "    <tr>\n",
       "      <th>37818</th>\n",
       "      <td>data/126/018</td>\n",
       "      <td>spam</td>\n",
       "      <td>[the, oil, sector, is, going, crazy, this, is,...</td>\n",
       "      <td>spam</td>\n",
       "    </tr>\n",
       "    <tr>\n",
       "      <th>37819</th>\n",
       "      <td>data/126/019</td>\n",
       "      <td>spam</td>\n",
       "      <td>[http, vdtobj, docscan, info, suffering, from,...</td>\n",
       "      <td>spam</td>\n",
       "    </tr>\n",
       "    <tr>\n",
       "      <th>37820</th>\n",
       "      <td>data/126/020</td>\n",
       "      <td>spam</td>\n",
       "      <td>[u, n, i, v, e, r, s, i, t, y, d, i, p, l, o, ...</td>\n",
       "      <td>spam</td>\n",
       "    </tr>\n",
       "    <tr>\n",
       "      <th>37821</th>\n",
       "      <td>data/126/021</td>\n",
       "      <td>spam</td>\n",
       "      <td>[but, moat, coverall, be, cytochemistry, be, p...</td>\n",
       "      <td>ham</td>\n",
       "    </tr>\n",
       "  </tbody>\n",
       "</table>\n",
       "<p>16522 rows × 4 columns</p>\n",
       "</div>"
      ],
      "text/plain": [
       "          file_path category  \\\n",
       "21300  data/071/000     spam   \n",
       "21301  data/071/001      ham   \n",
       "21302  data/071/002     spam   \n",
       "21303  data/071/003     spam   \n",
       "21304  data/071/004     spam   \n",
       "...             ...      ...   \n",
       "37817  data/126/017     spam   \n",
       "37818  data/126/018     spam   \n",
       "37819  data/126/019     spam   \n",
       "37820  data/126/020     spam   \n",
       "37821  data/126/021     spam   \n",
       "\n",
       "                                               word_list prediction  \n",
       "21300  [where, we, can, hesitantly, derive, perverse,...       spam  \n",
       "21301  [there, are, several, things, you, can, use, t...        ham  \n",
       "21302  [best, offer, of, the, month, viggra, ci, iali...       spam  \n",
       "21303  [de, i, ar, home, o, h, wne, n, r, your, cr, v...       spam  \n",
       "21304  [special, offer, adobe, video, collection, ado...       spam  \n",
       "...                                                  ...        ...  \n",
       "37817  [great, news, expec, ted, infinex, ventures, i...       spam  \n",
       "37818  [the, oil, sector, is, going, crazy, this, is,...       spam  \n",
       "37819  [http, vdtobj, docscan, info, suffering, from,...       spam  \n",
       "37820  [u, n, i, v, e, r, s, i, t, y, d, i, p, l, o, ...       spam  \n",
       "37821  [but, moat, coverall, be, cytochemistry, be, p...        ham  \n",
       "\n",
       "[16522 rows x 4 columns]"
      ]
     },
     "execution_count": 379,
     "metadata": {},
     "output_type": "execute_result"
    }
   ],
   "source": [
    "test_df_wo_stop.loc[:, \"prediction\"] = test_classifier(\n",
    "    test_df_wo_stop,\n",
    "    p_ham_wo_stop,\n",
    "    p_spam_wo_stop,\n",
    "    p_ham_count_wo_stop,\n",
    "    p_spam_count_wo_stop,\n",
    "    common_words_wo_stop,\n",
    ")\n",
    "test_df_wo_stop"
   ]
  },
  {
   "cell_type": "code",
   "execution_count": 380,
   "metadata": {},
   "outputs": [],
   "source": [
    "accuracy_wo_stop, recall_wo_stop, precision_wo_stop = evaluate_performance(\n",
    "    test_df_wo_stop\n",
    ")"
   ]
  },
  {
   "cell_type": "markdown",
   "metadata": {},
   "source": [
    "Compare both scores using plot"
   ]
  },
  {
   "cell_type": "code",
   "execution_count": 381,
   "metadata": {},
   "outputs": [
    {
     "data": {
      "image/png": "[encoded data removed]",
      "text/plain": [
       "<Figure size 640x480 with 1 Axes>"
      ]
     },
     "metadata": {},
     "output_type": "display_data"
    },
    {
     "name": "stdout",
     "output_type": "stream",
     "text": [
      "Without stop words:\n",
      "Accuracy: 0.9196223217528144\n",
      "Recall: 0.9163897620116749\n",
      "Precision: 0.9625507027638902\n",
      "\n",
      "With stop words:\n",
      "Accuracy: 0.8890570148892386\n",
      "Recall: 0.8704984283789852\n",
      "Precision: 0.9612257040856803\n",
      "\n"
     ]
    }
   ],
   "source": [
    "titles = ['Accuracy', 'Recall', 'Precision']\n",
    "score = [accuracy, recall, precision]\n",
    "score_wo_stop = [accuracy_wo_stop, recall_wo_stop, precision_wo_stop]\n",
    "\n",
    "X_axis = np.arange(len(titles))\n",
    "plt.bar(X_axis - 0.2, score, 0.4, label=\"Without stop words\")\n",
    "plt.bar(X_axis + 0.2, score_wo_stop, 0.4, label=\"With stop words\")\n",
    "\n",
    "plt.xticks(X_axis, titles)\n",
    "plt.xlabel(\"Performance Evaluation\")\n",
    "plt.ylabel(\"Score\")\n",
    "plt.title(\"Comparison of Scores\")\n",
    "plt.legend()\n",
    "plt.show()\n",
    "\n",
    "print(\"Without stop words:\")\n",
    "print(f\"Accuracy: {accuracy}\\nRecall: {recall}\\nPrecision: {precision}\\n\")\n",
    "\n",
    "print(\"With stop words:\")\n",
    "print(f\"Accuracy: {accuracy_wo_stop}\\nRecall: {recall_wo_stop}\\nPrecision: {precision_wo_stop}\\n\")"
   ]
  },
  {
   "cell_type": "markdown",
   "metadata": {},
   "source": [
    "Conclusion:"
   ]
  },
  {
   "cell_type": "markdown",
   "metadata": {},
   "source": [
    "Due to the removal of the stop words, all measures of performance evaluation is higher than without removing the said words. In this case, the difference does not exceed 5%, with recall (approx. 4.56%) being the most affected, followed by accuracy (approx. 3.06%), then precision (approx. 0.01%). Thus, removing these nuisance improves the model's performance."
   ]
  },
  {
   "cell_type": "markdown",
   "metadata": {},
   "source": [
    "2. Experiment on the number of words used for training. Filter the dictionary to\n",
    "include only words occurring more than k times (1000 words, then k > 100, and k\n",
    "= 50 times). For example, the word “offer” appears 150 times, that means that it\n",
    "will be included in the dictionary."
   ]
  },
  {
   "cell_type": "markdown",
   "metadata": {},
   "source": [
    "Search for words that appear onlt 50 times (k=50)"
   ]
  },
  {
   "cell_type": "code",
   "execution_count": 382,
   "metadata": {},
   "outputs": [],
   "source": [
    "k_50_filtered_data = [entry for entry in top_common_words_with_freq if entry[1] == 50]\n",
    "k_50_words = [entry[0] for entry in k_50_filtered_data]"
   ]
  },
  {
   "cell_type": "markdown",
   "metadata": {},
   "source": [
    "Copy the original splitted data"
   ]
  },
  {
   "cell_type": "code",
   "execution_count": 383,
   "metadata": {},
   "outputs": [],
   "source": [
    "train_ham_df_k50 = train_ham_df.copy()\n",
    "train_spam_df_k50 = train_spam_df.copy()\n",
    "test_df_k50 = test_df.copy()"
   ]
  },
  {
   "cell_type": "code",
   "execution_count": 386,
   "metadata": {},
   "outputs": [
    {
     "name": "stdout",
     "output_type": "stream",
     "text": [
      "Accuracy: 0.7154097566880523\n",
      "Recall: 0.994611585092052\n",
      "Precision: 0.704651014824712\n",
      "\n"
     ]
    }
   ],
   "source": [
    "ham_fm_k50 = create_feature_matrix(train_ham_df_k50[\"word_list\"], k_50_words)\n",
    "spam_fm_k50 = create_feature_matrix(train_spam_df_k50[\"word_list\"], k_50_words)\n",
    "\n",
    "p_ham_k50, p_spam_k50 = compute_priors(train_df, train_ham_df, train_spam_df)\n",
    "p_ham_count_k50, p_spam_count_k50 = compute_likelihood(\n",
    "    ham_fm_k50, spam_fm_k50, k_50_words\n",
    ")\n",
    "\n",
    "test_df_k50 = test_df.copy()\n",
    "\n",
    "test_df_k50.loc[:, \"prediction\"] = test_classifier(\n",
    "    test_df,\n",
    "    p_ham_k50,\n",
    "    p_spam_k50,\n",
    "    p_ham_count_k50,\n",
    "    p_spam_count_k50,\n",
    "    k_50_words,\n",
    ")\n",
    "\n",
    "accuracy_k_50, recall_k_50, precision_k_50 = evaluate_performance(test_df_k50)\n",
    "print(\n",
    "    f\"Accuracy: {accuracy_k_50}\\nRecall: {recall_k_50}\\nPrecision: {precision_k_50}\\n\"\n",
    ")"
   ]
  },
  {
   "cell_type": "markdown",
   "metadata": {},
   "source": [
    "3. Discuss the results of the different parameters used for Lambda smoothing. Test\n",
    "it on 5 varying values of the λ (e.g. λ = 2.0, 1.0, 0.5, 0.1, 0.005), Evaluate\n",
    "performance metrics for each."
   ]
  },
  {
   "cell_type": "code",
   "execution_count": 390,
   "metadata": {},
   "outputs": [],
   "source": [
    "lmbdas = [2.0, 1.0, 0.5, 0.1, 0.005]\n",
    "results_list = []\n",
    "\n",
    "for lmbda in lmbdas:\n",
    "    p_ham_count_lmbda, p_spam_count_lmbda = compute_likelihood(\n",
    "        ham_fm, spam_fm, common_words, lmbda=lmbda\n",
    "    )\n",
    "\n",
    "    test_df_lmbda = test_df.copy()\n",
    "    test_df_lmbda.loc[:, \"prediction\"] = test_classifier(\n",
    "        test_df_lmbda,\n",
    "        p_ham,\n",
    "        p_spam,\n",
    "        p_ham_count_lmbda,\n",
    "        p_spam_count_lmbda,\n",
    "        common_words,\n",
    "    )\n",
    "\n",
    "    accuracy_lmbda, recall_lmbda, precision_lmbda = evaluate_performance(test_df_lmbda)\n",
    "\n",
    "    results_list.append(\n",
    "        {\n",
    "            \"lambda\": lmbda,\n",
    "            \"accuracy\": accuracy_lmbda,\n",
    "            \"recall\": recall_lmbda,\n",
    "            \"precision\": precision_lmbda,\n",
    "        }\n",
    "    )\n",
    "\n",
    "result_df = pd.DataFrame(results_list)"
   ]
  },
  {
   "cell_type": "code",
   "execution_count": 391,
   "metadata": {},
   "outputs": [
    {
     "data": {
      "text/html": [
       "<div>\n",
       "<style scoped>\n",
       "    .dataframe tbody tr th:only-of-type {\n",
       "        vertical-align: middle;\n",
       "    }\n",
       "\n",
       "    .dataframe tbody tr th {\n",
       "        vertical-align: top;\n",
       "    }\n",
       "\n",
       "    .dataframe thead th {\n",
       "        text-align: right;\n",
       "    }\n",
       "</style>\n",
       "<table border=\"1\" class=\"dataframe\">\n",
       "  <thead>\n",
       "    <tr style=\"text-align: right;\">\n",
       "      <th></th>\n",
       "      <th>lambda</th>\n",
       "      <th>accuracy</th>\n",
       "      <th>recall</th>\n",
       "      <th>precision</th>\n",
       "    </tr>\n",
       "  </thead>\n",
       "  <tbody>\n",
       "    <tr>\n",
       "      <th>0</th>\n",
       "      <td>2.000</td>\n",
       "      <td>0.919501</td>\n",
       "      <td>0.916569</td>\n",
       "      <td>0.962195</td>\n",
       "    </tr>\n",
       "    <tr>\n",
       "      <th>1</th>\n",
       "      <td>1.000</td>\n",
       "      <td>0.919622</td>\n",
       "      <td>0.916390</td>\n",
       "      <td>0.962551</td>\n",
       "    </tr>\n",
       "    <tr>\n",
       "      <th>2</th>\n",
       "      <td>0.500</td>\n",
       "      <td>0.920167</td>\n",
       "      <td>0.916390</td>\n",
       "      <td>0.963369</td>\n",
       "    </tr>\n",
       "    <tr>\n",
       "      <th>3</th>\n",
       "      <td>0.100</td>\n",
       "      <td>0.921317</td>\n",
       "      <td>0.917198</td>\n",
       "      <td>0.964309</td>\n",
       "    </tr>\n",
       "    <tr>\n",
       "      <th>4</th>\n",
       "      <td>0.005</td>\n",
       "      <td>0.921135</td>\n",
       "      <td>0.915402</td>\n",
       "      <td>0.965795</td>\n",
       "    </tr>\n",
       "  </tbody>\n",
       "</table>\n",
       "</div>"
      ],
      "text/plain": [
       "   lambda  accuracy    recall  precision\n",
       "0   2.000  0.919501  0.916569   0.962195\n",
       "1   1.000  0.919622  0.916390   0.962551\n",
       "2   0.500  0.920167  0.916390   0.963369\n",
       "3   0.100  0.921317  0.917198   0.964309\n",
       "4   0.005  0.921135  0.915402   0.965795"
      ]
     },
     "execution_count": 391,
     "metadata": {},
     "output_type": "execute_result"
    }
   ],
   "source": [
    "result_df"
   ]
  },
  {
   "cell_type": "markdown",
   "metadata": {},
   "source": [
    "Plot each measurement"
   ]
  },
  {
   "cell_type": "code",
   "execution_count": 400,
   "metadata": {},
   "outputs": [],
   "source": [
    "def plot_line(label):\n",
    "    plt.plot(\n",
    "        result_df[\"lambda\"],\n",
    "        result_df[label.lower()],\n",
    "        label=label,\n",
    "        marker=\"o\",\n",
    "    )\n",
    "\n",
    "    plt.xlabel(\"Lambda\")\n",
    "    plt.ylabel(\"Score\")\n",
    "    plt.title(f\"{label}\")\n",
    "    plt.show()"
   ]
  },
  {
   "cell_type": "code",
   "execution_count": 401,
   "metadata": {},
   "outputs": [
    {
     "data": {
      "image/png": "[encoded data removed]",
      "text/plain": [
       "<Figure size 640x480 with 1 Axes>"
      ]
     },
     "metadata": {},
     "output_type": "display_data"
    },
    {
     "data": {
      "image/png": "[encoded data removed]",
      "text/plain": [
       "<Figure size 640x480 with 1 Axes>"
      ]
     },
     "metadata": {},
     "output_type": "display_data"
    },
    {
     "data": {
      "image/png": "[encoded data removed]",
      "text/plain": [
       "<Figure size 640x480 with 1 Axes>"
      ]
     },
     "metadata": {},
     "output_type": "display_data"
    }
   ],
   "source": [
    "plot_line('Accuracy')\n",
    "plot_line('Recall')\n",
    "plot_line('Precision')"
   ]
  }
 ],
 "metadata": {
  "kernelspec": {
   "display_name": "base",
   "language": "python",
   "name": "python3"
  },
  "language_info": {
   "codemirror_mode": {
    "name": "ipython",
    "version": 3
   },
   "file_extension": ".py",
   "mimetype": "text/x-python",
   "name": "python",
   "nbconvert_exporter": "python",
   "pygments_lexer": "ipython3",
   "version": "3.12.4"
  }
 },
 "nbformat": 4,
 "nbformat_minor": 2
}
